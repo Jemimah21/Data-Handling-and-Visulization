{
  "nbformat": 4,
  "nbformat_minor": 0,
  "metadata": {
    "colab": {
      "provenance": []
    },
    "kernelspec": {
      "name": "python3",
      "display_name": "Python 3"
    },
    "language_info": {
      "name": "python"
    }
  },
  "cells": [
    {
      "cell_type": "code",
      "execution_count": 7,
      "metadata": {
        "id": "otaMWmDK36Pk",
        "colab": {
          "base_uri": "https://localhost:8080/"
        },
        "outputId": "51c7724f-fdce-4048-dcbc-4507f6beee19"
      },
      "outputs": [
        {
          "output_type": "stream",
          "name": "stderr",
          "text": [
            "[nltk_data] Downloading package stopwords to /root/nltk_data...\n",
            "[nltk_data]   Package stopwords is already up-to-date!\n"
          ]
        },
        {
          "output_type": "execute_result",
          "data": {
            "text/plain": [
              "True"
            ]
          },
          "metadata": {},
          "execution_count": 7
        }
      ],
      "source": [
        "import nltk\n",
        "from nltk.corpus import stopwords\n",
        "from nltk.tokenize import word_tokenize\n",
        "nltk.download('stopwords')"
      ]
    },
    {
      "cell_type": "code",
      "source": [
        "def remove_stop_words(string):\n",
        "    stop_words = set(stopwords.words('english'))\n",
        "    words = string.split()\n",
        "    filtered_words = [word for word in words if word.lower() not in stop_words]\n",
        "    new_string = ' '.join(filtered_words)\n",
        "    stopwords_count = len(words) - len(filtered_words)\n",
        "    return new_string, stopwords_count\n",
        "\n",
        "input_string = \"This is an example sentence to remove stop words from\"\n",
        "result, stopwords_count = remove_stop_words(input_string)\n",
        "print(\"Original String:\", input_string)\n",
        "print(\"Modified String:\", result)\n",
        "print(\"Number of stopwords removed:\", stopwords_count)\n"
      ],
      "metadata": {
        "colab": {
          "base_uri": "https://localhost:8080/"
        },
        "id": "PNHa8-JGBzzN",
        "outputId": "ddffe0e6-dc08-4bad-bd11-1b12593fb0fb"
      },
      "execution_count": 22,
      "outputs": [
        {
          "output_type": "stream",
          "name": "stdout",
          "text": [
            "Original String: This is an example sentence to remove stop words from\n",
            "Modified String: example sentence remove stop words\n",
            "Number of stopwords removed: 5\n"
          ]
        }
      ]
    },
    {
      "cell_type": "code",
      "source": [
        "import matplotlib.pyplot as plt\n",
        "stopwords_count = 5\n",
        "non_stopwords_count = 10\n",
        "plt.bar([\"Stopwords\", \"Non-Stopwords\"], [stopwords_count, non_stopwords_count], color=['pink', 'gray'])\n",
        "plt.xlabel('Word Type')\n",
        "plt.ylabel('Count')\n",
        "plt.title('No.of Stopwords vs No.of Non-Stopwords')\n",
        "plt.show()\n"
      ],
      "metadata": {
        "colab": {
          "base_uri": "https://localhost:8080/",
          "height": 472
        },
        "id": "PsmLoSRAE662",
        "outputId": "b53f485e-8dd8-4ff5-bd5b-94a77c5e4b1f"
      },
      "execution_count": 31,
      "outputs": [
        {
          "output_type": "display_data",
          "data": {
            "text/plain": [
              "<Figure size 640x480 with 1 Axes>"
            ],
            "image/png": "[encoded data removed]"
          },
          "metadata": {}
        }
      ]
    },
    {
      "cell_type": "code",
      "source": [],
      "metadata": {
        "id": "oJLrBmIXFUTF"
      },
      "execution_count": null,
      "outputs": []
    }
  ]
}